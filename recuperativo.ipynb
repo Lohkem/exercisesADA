{
 "cells": [
  {
   "cell_type": "markdown",
   "metadata": {},
   "source": [
    "Nombre: Adonis"
   ]
  },
  {
   "cell_type": "markdown",
   "metadata": {},
   "source": [
    "-------\n",
    "1. (30%) Exponga y explique el algoritmo más eficiente, de tipo voraz, que conozca para\n",
    "realizar una planificación de tareas de plazo fijo maximizando el beneficio.\n",
    "Dada la tabla adjunta de tareas con sus beneficios (gi) y su tiempo límite de uso (di), aplique\n",
    "paso a paso el algoritmo propuesto, suponiendo que se desea realizar una planificación con\n",
    "tiempo t = 5. \n",
    "\n",
    "\n",
    "| i | 1 | 2 | 3 | 4 | 5 | 6 | 7 | 8 | 9 |\n",
    "| --- | --- | --- | --- | --- | --- | --- | --- | --- | --- |\n",
    "| gi | 30 | 10 | 2 | 11 | 10 | 9 | 2 | 56 | 33 |\n",
    "| di | 5 | 3 | 2 | 2 | 1 | 2 | 7 | 5 | 4 |"
   ]
  },
  {
   "cell_type": "markdown",
   "metadata": {},
   "source": [
    "# Pseudocodigo"
   ]
  },
  {
   "cell_type": "markdown",
   "metadata": {},
   "source": [
    "```\n",
    "planificar(G[]: conjunto de beneficios, D[]: conjunto de tiempo limite, t: tiempo limite de planificacion)\n",
    "{\n",
    "    //creamos nuevo conjunto con los beneficios relativos W = G/D\n",
    "    W[] = vacio\n",
    "    para cada i en G hacer\n",
    "    {\n",
    "        W[i] = G[i] / D[i]\n",
    "    }\n",
    "    \n",
    "    //ordenamos W de mayor a menor por lo que en la primera posicion tendremos la tarea que mejor beneficio relativo tiene\n",
    "    ordenar(W)\n",
    "    //S conjunto solucion y tiempo_actual tiempo actual \n",
    "    S = vacio\n",
    "    tiempo_actual = 0\n",
    "    \n",
    "    /*Notar que no se elimina elementos de ningun conjunto\n",
    "     *debido a que la instruccion \"para\" pasa por cada elemento solo una vez\n",
    "     *lo cual estaria realizando la misma accion que eliminar de un conjunto\n",
    "     */\n",
    "     /*Funciona factible chequea si tiempo_actual <= 5\n",
    "    para cada i en W hacer\n",
    "    {\n",
    "        seleccionar(W[i])\n",
    "        tiempo_actual = tiempo_actual + D[i]\n",
    "        if (factible(W[i], S))\n",
    "        {    \n",
    "            solucion(S, W[i])\n",
    "        }\n",
    "        else\n",
    "        {\n",
    "            tiempo_actual = tiempo_actual - D[i]\n",
    "        }\n",
    "    }\n",
    "    END\n",
    "    \n",
    "    //Una alternativa al anterior ciclo \"para\" sería\n",
    "    mientras W!=vacio y No solucion(S) hacer\n",
    "    {\n",
    "        seleccionar(x) //seleccionar primer elemento de W\n",
    "        W = W - x\n",
    "        tiempo_actual = tiempo_actual + D[i] // sumamos al tiempo actual el tiempo de x\n",
    "        if(factible(x, S))\n",
    "        {\n",
    "            solucion(S,x)\n",
    "        }\n",
    "        else\n",
    "        {\n",
    "            tiempo_actual = tiempo_actual - D[i] //restamos al tiempo actual el tiempo de x rechazado\n",
    "        }\n",
    "    }\n",
    "}\n",
    "```"
   ]
  },
  {
   "cell_type": "markdown",
   "metadata": {},
   "source": [
    "# Implementacion en Python3"
   ]
  },
  {
   "cell_type": "markdown",
   "metadata": {},
   "source": [
    "definimos los input\n"
   ]
  },
  {
   "cell_type": "code",
   "execution_count": 1,
   "metadata": {},
   "outputs": [],
   "source": [
    "g = [30, 10, 2, 11, 10, 9, 2, 56, 33]\n",
    "d = [5, 3, 2, 2, 1, 2, 7, 5, 4]"
   ]
  },
  {
   "cell_type": "markdown",
   "metadata": {},
   "source": [
    "Genero una lista con las ganancias relativas\n",
    "* O(n)\n"
   ]
  },
  {
   "cell_type": "code",
   "execution_count": 2,
   "metadata": {},
   "outputs": [
    {
     "data": {
      "text/plain": [
       "[{'d': 5, 'g': 30, 'gain': 6.0},\n",
       " {'d': 3, 'g': 10, 'gain': 3.3333333333333335},\n",
       " {'d': 2, 'g': 2, 'gain': 1.0},\n",
       " {'d': 2, 'g': 11, 'gain': 5.5},\n",
       " {'d': 1, 'g': 10, 'gain': 10.0},\n",
       " {'d': 2, 'g': 9, 'gain': 4.5},\n",
       " {'d': 7, 'g': 2, 'gain': 0.2857142857142857},\n",
       " {'d': 5, 'g': 56, 'gain': 11.2},\n",
       " {'d': 4, 'g': 33, 'gain': 8.25}]"
      ]
     },
     "execution_count": 2,
     "metadata": {},
     "output_type": "execute_result"
    }
   ],
   "source": [
    "w = []\n",
    "for i in range(len(g)):\n",
    "    w.append({\"g\": g[i], \"d\": d[i], \"gain\": g[i]/d[i]})\n",
    "w"
   ]
  },
  {
   "cell_type": "markdown",
   "metadata": {},
   "source": [
    "la ordeno por ganancia descendiente\n",
    "* O(nlogn)"
   ]
  },
  {
   "cell_type": "code",
   "execution_count": 3,
   "metadata": {},
   "outputs": [
    {
     "data": {
      "text/plain": [
       "[{'d': 5, 'g': 56, 'gain': 11.2},\n",
       " {'d': 1, 'g': 10, 'gain': 10.0},\n",
       " {'d': 4, 'g': 33, 'gain': 8.25},\n",
       " {'d': 5, 'g': 30, 'gain': 6.0},\n",
       " {'d': 2, 'g': 11, 'gain': 5.5},\n",
       " {'d': 2, 'g': 9, 'gain': 4.5},\n",
       " {'d': 3, 'g': 10, 'gain': 3.3333333333333335},\n",
       " {'d': 2, 'g': 2, 'gain': 1.0},\n",
       " {'d': 7, 'g': 2, 'gain': 0.2857142857142857}]"
      ]
     },
     "execution_count": 3,
     "metadata": {},
     "output_type": "execute_result"
    }
   ],
   "source": [
    "w = sorted(w, reverse = True, key = lambda pair: pair[\"g\"]/pair[\"d\"])\n",
    "w"
   ]
  },
  {
   "cell_type": "markdown",
   "metadata": {},
   "source": [
    "Ahora por cada item en la lista generada, la agrego a un conjunto solucion si es que es factible de agregar, sino, sigo con el siguiente hasta revisar todos los elementos o hasta agotar el tiempo\n",
    "* O(n)"
   ]
  },
  {
   "cell_type": "code",
   "execution_count": 4,
   "metadata": {},
   "outputs": [
    {
     "data": {
      "text/plain": [
       "[{'d': 5, 'g': 56, 'gain': 11.2}]"
      ]
     },
     "execution_count": 4,
     "metadata": {},
     "output_type": "execute_result"
    }
   ],
   "source": [
    "time_limit = 5\n",
    "result = []\n",
    "current_time = 0\n",
    "\n",
    "for item in w:\n",
    "    added_time = current_time + item[\"d\"]\n",
    "    if added_time <= time_limit:\n",
    "        result.append(item)\n",
    "        current_time += added_time\n",
    "\n",
    "result"
   ]
  },
  {
   "cell_type": "markdown",
   "metadata": {},
   "source": [
    "Esta es la lista de tareas a hacer, la ganancia total es"
   ]
  },
  {
   "cell_type": "code",
   "execution_count": 5,
   "metadata": {},
   "outputs": [
    {
     "data": {
      "text/plain": [
       "56"
      ]
     },
     "execution_count": 5,
     "metadata": {},
     "output_type": "execute_result"
    }
   ],
   "source": [
    "sum([value[\"g\"] for value in result])"
   ]
  },
  {
   "cell_type": "markdown",
   "metadata": {},
   "source": [
    "La complejidad total del algoritmo es de O(nlogn)"
   ]
  },
  {
   "cell_type": "markdown",
   "metadata": {},
   "source": [
    "------\n",
    "2. (30%) Un vector T contiene n elementos. Se quieren encontrar los m mayores elementos\n",
    "del vector y se supone n≫ m (n mucho mayor que m). Describe una forma, del tipo divides\n",
    "y vencerás, de hacer esto sin ordenar el vector y calcula qué costo tiene. "
   ]
  },
  {
   "cell_type": "markdown",
   "metadata": {},
   "source": [
    "# Pseudocodigo\n",
    "```\n",
    "Select(k: k mayores, S: vector de elementos)\n",
    "{\n",
    "    if(||S|| == k) return (el elemento de S)\n",
    "        Escoger m como el primer elemento de S\n",
    "        Sean: S1 = { x ∈ S | x < m}\n",
    "              S2 = { x ∈ S | x = m}\n",
    "              S3 = { x ∈ S | x > m}\n",
    "    if( k <= ||S3|| ) return(Select(k, S3))\n",
    "    if( k <= ||S3|| + ||S2|| ) return(Select(k, s2+s3))\n",
    "    return(Select( k, S1 + S2 + S3))\n",
    "}\n",
    "```"
   ]
  },
  {
   "cell_type": "markdown",
   "metadata": {},
   "source": [
    "# Implementacion en Python3"
   ]
  },
  {
   "cell_type": "code",
   "execution_count": 2,
   "metadata": {},
   "outputs": [],
   "source": [
    "def select(k, array):\n",
    "    \n",
    "    if len(array) == k:\n",
    "        return array\n",
    "    \n",
    "    s1 = [x for x in array if x<array[0]]\n",
    "    s2 = [x for x in array if x==array[0]]\n",
    "    s3 = [x for x in array if x>array[0]]\n",
    "    \n",
    "    if k <= len(s3):\n",
    "        return select(k, s3)\n",
    "    if k <= len(s3)+len(s2):\n",
    "        return select(k, s2+s3)\n",
    "    return select(k, s1+s2+s3)\n",
    "    "
   ]
  },
  {
   "cell_type": "code",
   "execution_count": 4,
   "metadata": {},
   "outputs": [
    {
     "data": {
      "text/plain": [
       "[4, 9, 8]"
      ]
     },
     "execution_count": 4,
     "metadata": {},
     "output_type": "execute_result"
    }
   ],
   "source": [
    "array = [3,1,4,9,2,0,8]\n",
    "k = 3\n",
    "\n",
    "select(k, array)"
   ]
  },
  {
   "cell_type": "markdown",
   "metadata": {},
   "source": [
    "La complejidad total del algoritmo es de O(n-k)"
   ]
  },
  {
   "cell_type": "code",
   "execution_count": null,
   "metadata": {},
   "outputs": [],
   "source": []
  }
 ],
 "metadata": {
  "kernelspec": {
   "display_name": "Python 3",
   "language": "python",
   "name": "python3"
  },
  "language_info": {
   "codemirror_mode": {
    "name": "ipython",
    "version": 3
   },
   "file_extension": ".py",
   "mimetype": "text/x-python",
   "name": "python",
   "nbconvert_exporter": "python",
   "pygments_lexer": "ipython3",
   "version": "3.5.2"
  }
 },
 "nbformat": 4,
 "nbformat_minor": 2
}
